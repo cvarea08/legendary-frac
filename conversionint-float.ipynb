{
  "nbformat": 4,
  "nbformat_minor": 0,
  "metadata": {
    "colab": {
      "name": "Untitled3.ipynb",
      "provenance": [],
      "authorship_tag": "ABX9TyNZjDRHinZFEexJG/Iuta97",
      "include_colab_link": true
    },
    "kernelspec": {
      "name": "python3",
      "display_name": "Python 3"
    },
    "language_info": {
      "name": "python"
    }
  },
  "cells": [
    {
      "cell_type": "markdown",
      "metadata": {
        "id": "view-in-github",
        "colab_type": "text"
      },
      "source": [
        "<a href=\"https://colab.research.google.com/github/cvarea08/legendary-frac/blob/main/conversionint-float.ipynb\" target=\"_parent\"><img src=\"https://colab.research.google.com/assets/colab-badge.svg\" alt=\"Open In Colab\"/></a>"
      ]
    },
    {
      "cell_type": "code",
      "execution_count": 1,
      "metadata": {
        "colab": {
          "base_uri": "https://localhost:8080/"
        },
        "id": "5-YrwbOzfk4E",
        "outputId": "92c537f4-3ea9-4881-c8f4-fbc2cb852ed2"
      },
      "outputs": [
        {
          "output_type": "stream",
          "name": "stdout",
          "text": [
            "23 es del tipo: <class 'int'>\n",
            "23.0 es del tipo: <class 'float'>\n"
          ]
        }
      ],
      "source": [
        "a = 23\n",
        "print(a,'es del tipo:',type(a))\n",
        " \n",
        "a = float(a)\n",
        "print(a,'es del tipo:',type(a))"
      ]
    },
    {
      "cell_type": "code",
      "source": [
        "a = 45\n",
        "print(a,'es del tipo:',type(a))\n",
        " \n",
        "a = float(a)\n",
        "print(a,'es del tipo:',type(a))"
      ],
      "metadata": {
        "colab": {
          "base_uri": "https://localhost:8080/"
        },
        "id": "a32QAEhTfvwW",
        "outputId": "2e825c3d-daff-4fa7-9ca1-31ae94c8a92f"
      },
      "execution_count": 2,
      "outputs": [
        {
          "output_type": "stream",
          "name": "stdout",
          "text": [
            "45 es del tipo: <class 'int'>\n",
            "45.0 es del tipo: <class 'float'>\n"
          ]
        }
      ]
    }
  ]
}